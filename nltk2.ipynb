{
 "cells": [
  {
   "cell_type": "code",
   "execution_count": 2,
   "metadata": {},
   "outputs": [],
   "source": [
    "import nltk \n",
    "from sklearn.feature_extraction.text import TfidfVectorizer"
   ]
  },
  {
   "cell_type": "code",
   "execution_count": 4,
   "metadata": {},
   "outputs": [],
   "source": [
    "d0 = \"Good morning, how are you doing?\"\n",
    "d1 = \"The weather is great today.\"\n",
    "d2 = \"Your performance has been excellent.\""
   ]
  },
  {
   "cell_type": "code",
   "execution_count": 5,
   "metadata": {},
   "outputs": [],
   "source": [
    "series = [d0, d1, d2]"
   ]
  },
  {
   "cell_type": "code",
   "execution_count": 6,
   "metadata": {},
   "outputs": [],
   "source": [
    "tfidf = TfidfVectorizer()"
   ]
  },
  {
   "cell_type": "code",
   "execution_count": 9,
   "metadata": {},
   "outputs": [
    {
     "data": {
      "text/plain": [
       "{'good': 4,\n",
       " 'morning': 9,\n",
       " 'how': 7,\n",
       " 'are': 0,\n",
       " 'you': 14,\n",
       " 'doing': 2,\n",
       " 'the': 11,\n",
       " 'weather': 13,\n",
       " 'is': 8,\n",
       " 'great': 5,\n",
       " 'today': 12,\n",
       " 'your': 15,\n",
       " 'performance': 10,\n",
       " 'has': 6,\n",
       " 'been': 1,\n",
       " 'excellent': 3}"
      ]
     },
     "execution_count": 9,
     "metadata": {},
     "output_type": "execute_result"
    }
   ],
   "source": [
    "result = tfidf.fit_transform(series)\n",
    "tfidf.vocabulary_"
   ]
  },
  {
   "cell_type": "code",
   "execution_count": 10,
   "metadata": {},
   "outputs": [
    {
     "name": "stdout",
     "output_type": "stream",
     "text": [
      "  (0, 2)\t0.4082482904638631\n",
      "  (0, 14)\t0.4082482904638631\n",
      "  (0, 0)\t0.4082482904638631\n",
      "  (0, 7)\t0.4082482904638631\n",
      "  (0, 9)\t0.4082482904638631\n",
      "  (0, 4)\t0.4082482904638631\n",
      "  (1, 12)\t0.4472135954999579\n",
      "  (1, 5)\t0.4472135954999579\n",
      "  (1, 8)\t0.4472135954999579\n",
      "  (1, 13)\t0.4472135954999579\n",
      "  (1, 11)\t0.4472135954999579\n",
      "  (2, 3)\t0.4472135954999579\n",
      "  (2, 1)\t0.4472135954999579\n",
      "  (2, 6)\t0.4472135954999579\n",
      "  (2, 10)\t0.4472135954999579\n",
      "  (2, 15)\t0.4472135954999579\n"
     ]
    }
   ],
   "source": [
    "print(result)\n",
    "#tf-idf(t, d) = tf(t, d) * idf(t, D)"
   ]
  },
  {
   "cell_type": "code",
   "execution_count": 12,
   "metadata": {},
   "outputs": [
    {
     "name": "stdout",
     "output_type": "stream",
     "text": [
      "[[0.40824829 0.         0.40824829 0.         0.40824829 0.\n",
      "  0.         0.40824829 0.         0.40824829 0.         0.\n",
      "  0.         0.         0.40824829 0.        ]\n",
      " [0.         0.         0.         0.         0.         0.4472136\n",
      "  0.         0.         0.4472136  0.         0.         0.4472136\n",
      "  0.4472136  0.4472136  0.         0.        ]\n",
      " [0.         0.4472136  0.         0.4472136  0.         0.\n",
      "  0.4472136  0.         0.         0.         0.4472136  0.\n",
      "  0.         0.         0.         0.4472136 ]]\n"
     ]
    }
   ],
   "source": [
    "print(result.toarray())"
   ]
  },
  {
   "cell_type": "code",
   "execution_count": 14,
   "metadata": {},
   "outputs": [
    {
     "data": {
      "text/plain": [
       "array(['are', 'been', 'doing', 'excellent', 'good', 'great', 'has', 'how',\n",
       "       'is', 'morning', 'performance', 'the', 'today', 'weather', 'you',\n",
       "       'your'], dtype=object)"
      ]
     },
     "execution_count": 14,
     "metadata": {},
     "output_type": "execute_result"
    }
   ],
   "source": [
    "feature_names = tfidf.get_feature_names_out()\n",
    "feature_names"
   ]
  },
  {
   "cell_type": "code",
   "execution_count": null,
   "metadata": {},
   "outputs": [],
   "source": []
  }
 ],
 "metadata": {
  "kernelspec": {
   "display_name": "Python 3",
   "language": "python",
   "name": "python3"
  },
  "language_info": {
   "codemirror_mode": {
    "name": "ipython",
    "version": 3
   },
   "file_extension": ".py",
   "mimetype": "text/x-python",
   "name": "python",
   "nbconvert_exporter": "python",
   "pygments_lexer": "ipython3",
   "version": "3.12.3"
  }
 },
 "nbformat": 4,
 "nbformat_minor": 2
}
